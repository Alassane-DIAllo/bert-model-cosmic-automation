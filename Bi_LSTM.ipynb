{
 "cells": [
  {
   "cell_type": "code",
   "execution_count": 32,
   "id": "4149410f",
   "metadata": {
    "id": "4149410f"
   },
   "outputs": [],
   "source": [
    "import os\n",
    "import sys\n",
    "import pandas as pd \n",
    "import collections\n",
    "import json\n",
    "import numpy as np\n",
    "from os.path import abspath\n",
    "from sklearn.model_selection import train_test_split\n",
    "import torch\n",
    "import torch.nn.functional as F \n",
    "import torch.nn as nn\n",
    "import torch.autograd as autograd \n",
    "import torch.optim as optim \n",
    "import matplotlib.pyplot as plt"
   ]
  },
  {
   "cell_type": "code",
   "execution_count": 2,
   "id": "165e2065",
   "metadata": {
    "colab": {
     "base_uri": "https://localhost:8080/"
    },
    "id": "165e2065",
    "outputId": "194557e5-267a-4ad6-ab24-5b8b79a3d592"
   },
   "outputs": [
    {
     "name": "stdout",
     "output_type": "stream",
     "text": [
      "Mounted at /content/drive\n"
     ]
    }
   ],
   "source": [
    "from google.colab import drive\n",
    "\n",
    "drive.mount('/content/drive')"
   ]
  },
  {
   "cell_type": "markdown",
   "id": "653b46f2",
   "metadata": {
    "id": "653b46f2"
   },
   "source": [
    "### Reading the Data "
   ]
  },
  {
   "cell_type": "code",
   "execution_count": 3,
   "id": "06473c43",
   "metadata": {
    "colab": {
     "base_uri": "https://localhost:8080/"
    },
    "id": "06473c43",
    "outputId": "acb7c94e-5429-4133-a6a3-041faf4e584d"
   },
   "outputs": [
    {
     "name": "stderr",
     "output_type": "stream",
     "text": [
      "b'Skipping line 281837: expected 25 fields, saw 34\\n'\n"
     ]
    }
   ],
   "source": [
    "data = pd.read_csv(\"/content/drive/MyDrive/Colab Notebooks/ner.csv\", encoding=\"ISO-8859-1\", error_bad_lines=False) "
   ]
  },
  {
   "cell_type": "code",
   "execution_count": 4,
   "id": "b7bd6ad8",
   "metadata": {
    "colab": {
     "base_uri": "https://localhost:8080/",
     "height": 252
    },
    "id": "b7bd6ad8",
    "outputId": "1c2ee6e0-cbf6-4a2f-e989-64684942e917"
   },
   "outputs": [
    {
     "data": {
      "text/html": [
       "<div>\n",
       "<style scoped>\n",
       "    .dataframe tbody tr th:only-of-type {\n",
       "        vertical-align: middle;\n",
       "    }\n",
       "\n",
       "    .dataframe tbody tr th {\n",
       "        vertical-align: top;\n",
       "    }\n",
       "\n",
       "    .dataframe thead th {\n",
       "        text-align: right;\n",
       "    }\n",
       "</style>\n",
       "<table border=\"1\" class=\"dataframe\">\n",
       "  <thead>\n",
       "    <tr style=\"text-align: right;\">\n",
       "      <th></th>\n",
       "      <th>Unnamed: 0</th>\n",
       "      <th>lemma</th>\n",
       "      <th>next-lemma</th>\n",
       "      <th>next-next-lemma</th>\n",
       "      <th>next-next-pos</th>\n",
       "      <th>next-next-shape</th>\n",
       "      <th>next-next-word</th>\n",
       "      <th>next-pos</th>\n",
       "      <th>next-shape</th>\n",
       "      <th>next-word</th>\n",
       "      <th>pos</th>\n",
       "      <th>prev-iob</th>\n",
       "      <th>prev-lemma</th>\n",
       "      <th>prev-pos</th>\n",
       "      <th>prev-prev-iob</th>\n",
       "      <th>prev-prev-lemma</th>\n",
       "      <th>prev-prev-pos</th>\n",
       "      <th>prev-prev-shape</th>\n",
       "      <th>prev-prev-word</th>\n",
       "      <th>prev-shape</th>\n",
       "      <th>prev-word</th>\n",
       "      <th>sentence_idx</th>\n",
       "      <th>shape</th>\n",
       "      <th>word</th>\n",
       "      <th>tag</th>\n",
       "    </tr>\n",
       "  </thead>\n",
       "  <tbody>\n",
       "    <tr>\n",
       "      <th>0</th>\n",
       "      <td>0</td>\n",
       "      <td>thousand</td>\n",
       "      <td>of</td>\n",
       "      <td>demonstr</td>\n",
       "      <td>NNS</td>\n",
       "      <td>lowercase</td>\n",
       "      <td>demonstrators</td>\n",
       "      <td>IN</td>\n",
       "      <td>lowercase</td>\n",
       "      <td>of</td>\n",
       "      <td>NNS</td>\n",
       "      <td>__START1__</td>\n",
       "      <td>__start1__</td>\n",
       "      <td>__START1__</td>\n",
       "      <td>__START2__</td>\n",
       "      <td>__start2__</td>\n",
       "      <td>__START2__</td>\n",
       "      <td>wildcard</td>\n",
       "      <td>__START2__</td>\n",
       "      <td>wildcard</td>\n",
       "      <td>__START1__</td>\n",
       "      <td>1.0</td>\n",
       "      <td>capitalized</td>\n",
       "      <td>Thousands</td>\n",
       "      <td>O</td>\n",
       "    </tr>\n",
       "    <tr>\n",
       "      <th>1</th>\n",
       "      <td>1</td>\n",
       "      <td>of</td>\n",
       "      <td>demonstr</td>\n",
       "      <td>have</td>\n",
       "      <td>VBP</td>\n",
       "      <td>lowercase</td>\n",
       "      <td>have</td>\n",
       "      <td>NNS</td>\n",
       "      <td>lowercase</td>\n",
       "      <td>demonstrators</td>\n",
       "      <td>IN</td>\n",
       "      <td>O</td>\n",
       "      <td>thousand</td>\n",
       "      <td>NNS</td>\n",
       "      <td>__START1__</td>\n",
       "      <td>__start1__</td>\n",
       "      <td>__START1__</td>\n",
       "      <td>wildcard</td>\n",
       "      <td>__START1__</td>\n",
       "      <td>capitalized</td>\n",
       "      <td>Thousands</td>\n",
       "      <td>1.0</td>\n",
       "      <td>lowercase</td>\n",
       "      <td>of</td>\n",
       "      <td>O</td>\n",
       "    </tr>\n",
       "    <tr>\n",
       "      <th>2</th>\n",
       "      <td>2</td>\n",
       "      <td>demonstr</td>\n",
       "      <td>have</td>\n",
       "      <td>march</td>\n",
       "      <td>VBN</td>\n",
       "      <td>lowercase</td>\n",
       "      <td>marched</td>\n",
       "      <td>VBP</td>\n",
       "      <td>lowercase</td>\n",
       "      <td>have</td>\n",
       "      <td>NNS</td>\n",
       "      <td>O</td>\n",
       "      <td>of</td>\n",
       "      <td>IN</td>\n",
       "      <td>O</td>\n",
       "      <td>thousand</td>\n",
       "      <td>NNS</td>\n",
       "      <td>capitalized</td>\n",
       "      <td>Thousands</td>\n",
       "      <td>lowercase</td>\n",
       "      <td>of</td>\n",
       "      <td>1.0</td>\n",
       "      <td>lowercase</td>\n",
       "      <td>demonstrators</td>\n",
       "      <td>O</td>\n",
       "    </tr>\n",
       "    <tr>\n",
       "      <th>3</th>\n",
       "      <td>3</td>\n",
       "      <td>have</td>\n",
       "      <td>march</td>\n",
       "      <td>through</td>\n",
       "      <td>IN</td>\n",
       "      <td>lowercase</td>\n",
       "      <td>through</td>\n",
       "      <td>VBN</td>\n",
       "      <td>lowercase</td>\n",
       "      <td>marched</td>\n",
       "      <td>VBP</td>\n",
       "      <td>O</td>\n",
       "      <td>demonstr</td>\n",
       "      <td>NNS</td>\n",
       "      <td>O</td>\n",
       "      <td>of</td>\n",
       "      <td>IN</td>\n",
       "      <td>lowercase</td>\n",
       "      <td>of</td>\n",
       "      <td>lowercase</td>\n",
       "      <td>demonstrators</td>\n",
       "      <td>1.0</td>\n",
       "      <td>lowercase</td>\n",
       "      <td>have</td>\n",
       "      <td>O</td>\n",
       "    </tr>\n",
       "    <tr>\n",
       "      <th>4</th>\n",
       "      <td>4</td>\n",
       "      <td>march</td>\n",
       "      <td>through</td>\n",
       "      <td>london</td>\n",
       "      <td>NNP</td>\n",
       "      <td>capitalized</td>\n",
       "      <td>London</td>\n",
       "      <td>IN</td>\n",
       "      <td>lowercase</td>\n",
       "      <td>through</td>\n",
       "      <td>VBN</td>\n",
       "      <td>O</td>\n",
       "      <td>have</td>\n",
       "      <td>VBP</td>\n",
       "      <td>O</td>\n",
       "      <td>demonstr</td>\n",
       "      <td>NNS</td>\n",
       "      <td>lowercase</td>\n",
       "      <td>demonstrators</td>\n",
       "      <td>lowercase</td>\n",
       "      <td>have</td>\n",
       "      <td>1.0</td>\n",
       "      <td>lowercase</td>\n",
       "      <td>marched</td>\n",
       "      <td>O</td>\n",
       "    </tr>\n",
       "  </tbody>\n",
       "</table>\n",
       "</div>"
      ],
      "text/plain": [
       "   Unnamed: 0     lemma next-lemma  ...        shape           word tag\n",
       "0           0  thousand         of  ...  capitalized      Thousands   O\n",
       "1           1        of   demonstr  ...    lowercase             of   O\n",
       "2           2  demonstr       have  ...    lowercase  demonstrators   O\n",
       "3           3      have      march  ...    lowercase           have   O\n",
       "4           4     march    through  ...    lowercase        marched   O\n",
       "\n",
       "[5 rows x 25 columns]"
      ]
     },
     "execution_count": 4,
     "metadata": {
      "tags": []
     },
     "output_type": "execute_result"
    }
   ],
   "source": [
    "data.head(5)"
   ]
  },
  {
   "cell_type": "code",
   "execution_count": 5,
   "id": "30668461",
   "metadata": {
    "colab": {
     "base_uri": "https://localhost:8080/",
     "height": 200
    },
    "id": "30668461",
    "outputId": "1bd60971-38f1-49c4-c5d1-9a4ef8cd1c69"
   },
   "outputs": [
    {
     "data": {
      "text/html": [
       "<div>\n",
       "<style scoped>\n",
       "    .dataframe tbody tr th:only-of-type {\n",
       "        vertical-align: middle;\n",
       "    }\n",
       "\n",
       "    .dataframe tbody tr th {\n",
       "        vertical-align: top;\n",
       "    }\n",
       "\n",
       "    .dataframe thead th {\n",
       "        text-align: right;\n",
       "    }\n",
       "</style>\n",
       "<table border=\"1\" class=\"dataframe\">\n",
       "  <thead>\n",
       "    <tr style=\"text-align: right;\">\n",
       "      <th></th>\n",
       "      <th>pos</th>\n",
       "      <th>word</th>\n",
       "      <th>tag</th>\n",
       "      <th>sentence_idx</th>\n",
       "    </tr>\n",
       "  </thead>\n",
       "  <tbody>\n",
       "    <tr>\n",
       "      <th>0</th>\n",
       "      <td>NNS</td>\n",
       "      <td>Thousands</td>\n",
       "      <td>O</td>\n",
       "      <td>1.0</td>\n",
       "    </tr>\n",
       "    <tr>\n",
       "      <th>1</th>\n",
       "      <td>IN</td>\n",
       "      <td>of</td>\n",
       "      <td>O</td>\n",
       "      <td>1.0</td>\n",
       "    </tr>\n",
       "    <tr>\n",
       "      <th>2</th>\n",
       "      <td>NNS</td>\n",
       "      <td>demonstrators</td>\n",
       "      <td>O</td>\n",
       "      <td>1.0</td>\n",
       "    </tr>\n",
       "    <tr>\n",
       "      <th>3</th>\n",
       "      <td>VBP</td>\n",
       "      <td>have</td>\n",
       "      <td>O</td>\n",
       "      <td>1.0</td>\n",
       "    </tr>\n",
       "    <tr>\n",
       "      <th>4</th>\n",
       "      <td>VBN</td>\n",
       "      <td>marched</td>\n",
       "      <td>O</td>\n",
       "      <td>1.0</td>\n",
       "    </tr>\n",
       "  </tbody>\n",
       "</table>\n",
       "</div>"
      ],
      "text/plain": [
       "   pos           word tag  sentence_idx\n",
       "0  NNS      Thousands   O           1.0\n",
       "1   IN             of   O           1.0\n",
       "2  NNS  demonstrators   O           1.0\n",
       "3  VBP           have   O           1.0\n",
       "4  VBN        marched   O           1.0"
      ]
     },
     "execution_count": 5,
     "metadata": {
      "tags": []
     },
     "output_type": "execute_result"
    }
   ],
   "source": [
    "### we are interested in the \"POS\", \"Word\", \"tag\" features .\n",
    "data = data[[\"pos\", \"word\", \"tag\", \"sentence_idx\"]]\n",
    "data.head()"
   ]
  },
  {
   "cell_type": "markdown",
   "id": "ec532c91",
   "metadata": {
    "id": "ec532c91"
   },
   "source": [
    "Next, We combine tokens with the same sentence_idx . Then, we split the data into inputs(set of sentences) and labels. "
   ]
  },
  {
   "cell_type": "code",
   "execution_count": 6,
   "id": "80632a2e",
   "metadata": {
    "id": "80632a2e"
   },
   "outputs": [],
   "source": [
    "def labels_sentences(data):\n",
    "    sentences ={}\n",
    "    tag = {}\n",
    "    tags = list(set(data[\"tag\"]))\n",
    "    \n",
    "    funct=lambda s: [(w, t,p) for (w, t, p) in zip(s[\"word\"].tolist(), s[\"tag\"].tolist(), s[\"pos\"].tolist())] \n",
    "    group_data = data.groupby(\"sentence_idx\").apply(funct)\n",
    "    sentences = [' '.join([word[0] for word in sentence])  for sentence in group_data]\n",
    "    tag2idx = {t:i for i, t in enumerate(tags)}\n",
    "    labels = [[tag2idx[tag[1]] for tag in sentence]  for sentence in group_data]  \n",
    "    \n",
    "    return sentences, labels"
   ]
  },
  {
   "cell_type": "markdown",
   "id": "508f1ea5",
   "metadata": {
    "id": "508f1ea5"
   },
   "source": [
    "### Sequence encoding \n",
    "\n",
    "The Deep learning model we will be using takes numerical values. Therefore, we must transform the sentences into numerical data. "
   ]
  },
  {
   "cell_type": "code",
   "execution_count": 7,
   "id": "e26fc9dd",
   "metadata": {
    "id": "e26fc9dd"
   },
   "outputs": [],
   "source": [
    "sentences, labels = labels_sentences(data)\n",
    "max_sequence_length = max([len(sent) for sent in sentences])\n",
    "\n",
    "corpus = (word for sent in sentences for word in sent.split(' '))\n",
    "idx2token = [token for token, count in collections.Counter(corpus).items() ]\n",
    "token2idx = {t : i for i, t in enumerate(idx2token)}\n",
    "\n",
    "\n",
    "idx2label = list(set(data[\"tag\"]))\n",
    "label2idx = {t:i for i, t in enumerate(idx2label)}"
   ]
  },
  {
   "cell_type": "code",
   "execution_count": 8,
   "id": "29aca821",
   "metadata": {
    "id": "29aca821"
   },
   "outputs": [],
   "source": [
    "with open('/content/sample_data/Bi-lstm-data.json', 'w') as file :\n",
    "    json.dump({\n",
    "        \"token2idx\":token2idx,\n",
    "        \"label2idex\":label2idx,\n",
    "        \"max_sequence_length\":max_sequence_length\n",
    "    }, file)"
   ]
  },
  {
   "cell_type": "code",
   "execution_count": 9,
   "id": "80e974d3",
   "metadata": {
    "colab": {
     "base_uri": "https://localhost:8080/"
    },
    "id": "80e974d3",
    "outputId": "be31c5cd-efd1-4d07-d846-5040ea5c62f8"
   },
   "outputs": [
    {
     "name": "stdout",
     "output_type": "stream",
     "text": [
      "Exception reporting mode: Plain\n"
     ]
    }
   ],
   "source": [
    "%xmode Plain"
   ]
  },
  {
   "cell_type": "code",
   "execution_count": 10,
   "id": "9fb3b778",
   "metadata": {
    "id": "9fb3b778"
   },
   "outputs": [],
   "source": [
    "X_numeric = np.array([[token2idx[tag] for tag in sentence.split(' ')] for sentence in sentences], dtype=object)\n",
    "Y_numeric = np.array(labels, dtype=object)"
   ]
  },
  {
   "cell_type": "code",
   "execution_count": 11,
   "id": "550ef3ea",
   "metadata": {
    "colab": {
     "base_uri": "https://localhost:8080/"
    },
    "id": "550ef3ea",
    "outputId": "d1a23d1f-79b9-4ffb-df23-ba01e29bb922"
   },
   "outputs": [
    {
     "name": "stdout",
     "output_type": "stream",
     "text": [
      "X_numeric shape: (35177,)\n",
      "Y_numeric shape: (35177,)\n"
     ]
    }
   ],
   "source": [
    "print(\"X_numeric shape:\", X_numeric.shape)\n",
    "print(\"Y_numeric shape:\", Y_numeric.shape)"
   ]
  },
  {
   "cell_type": "markdown",
   "id": "913d791b",
   "metadata": {
    "id": "913d791b"
   },
   "source": [
    "The next step consists in splitting the data into training set and test set."
   ]
  },
  {
   "cell_type": "code",
   "execution_count": 12,
   "id": "8df89766",
   "metadata": {
    "id": "8df89766"
   },
   "outputs": [],
   "source": [
    "test_size = 0.02\n",
    "X_train, X_test, y_train, y_test = train_test_split(X_numeric, Y_numeric, test_size=test_size, random_state=10)"
   ]
  },
  {
   "cell_type": "code",
   "execution_count": 13,
   "id": "fc4f3006",
   "metadata": {
    "colab": {
     "base_uri": "https://localhost:8080/"
    },
    "id": "fc4f3006",
    "outputId": "05214d55-63b1-45df-cf23-5a7bd88fa663"
   },
   "outputs": [
    {
     "name": "stdout",
     "output_type": "stream",
     "text": [
      "X-train shape : (34473,)\n",
      "X_test shape : (704,)\n",
      "Y_train shape : (34473,)\n",
      "Y_test shape : (704,)\n"
     ]
    }
   ],
   "source": [
    "print(\"X-train shape :\",X_train.shape)\n",
    "print(\"X_test shape :\", X_test.shape)\n",
    "print(\"Y_train shape :\", y_train.shape)\n",
    "print(\"Y_test shape :\", y_test.shape)"
   ]
  },
  {
   "cell_type": "markdown",
   "id": "7190b34e",
   "metadata": {
    "id": "7190b34e"
   },
   "source": [
    "###  Building the model \n",
    "\n",
    "The model with want to build corresponds to the Bidirectionnal Long short term memory(BI-LSTM). "
   ]
  },
  {
   "cell_type": "code",
   "execution_count": 44,
   "id": "0a1fe36c",
   "metadata": {
    "id": "0a1fe36c"
   },
   "outputs": [],
   "source": [
    "vocab_size = len(token2idx) \n",
    "embedding_dim = 128\n",
    "hidden_dim = 128\n",
    "tag_size = len(label2idx)\n",
    "batch_size = 20\n",
    "epochs =4"
   ]
  },
  {
   "cell_type": "code",
   "execution_count": 15,
   "id": "624e3b21",
   "metadata": {
    "id": "624e3b21"
   },
   "outputs": [],
   "source": [
    "class BI_LSTM(nn.Module):\n",
    "    \n",
    "    def __init__(self, vocab_size, embedding_dim, hidden_dim, tag_size):\n",
    "        super(BI_LSTM, self).__init__()\n",
    "        self.hidden_dim = hidden_dim\n",
    "        self.embedding_dim = embedding_dim\n",
    "        \n",
    "        self.word_embedding = nn.Embedding(vocab_size, self.embedding_dim)\n",
    "        self.lstm = nn.LSTM(self.embedding_dim, self.hidden_dim, bidirectional=True)\n",
    "        self.hidden2tag =nn.Linear(2*hidden_dim, tag_size) # combination of the two directions==> 2* hidden_dim\n",
    "        \n",
    "        self.hidden = self.hidden_init()\n",
    "        \n",
    "    \n",
    "    def hidden_init(self):\n",
    "        return autograd.Variable(torch.zeros(2,1, self.hidden_dim).cuda()), \\\n",
    "        autograd.Variable(torch.zeros(2,1, self.hidden_dim).cuda())\n",
    "        \n",
    "        \n",
    "    def forward(self, sentences):\n",
    "        emdedding_out = self.word_embedding(sentences)\n",
    "        lstm , self.hidden = self.lstm(emdedding_out.view(len(sentences), 1, -1), self.hidden)\n",
    "        tags = self.hidden2tag(lstm.view(len(sentences), -1))\n",
    "        output = F.log_softmax(tags) \n",
    "        return output\n",
    "    \n",
    "    def predict(self, sentences):\n",
    "        \n",
    "        embedding = self.word_embedding(sentences)\n",
    "        lstm, self.hidden = self.lstm(embedding_out.view(len(sentences),1,-1), self.hidden)\n",
    "        tags = self.hidden2tag(lstm.view(len(sentences),-1))\n",
    "        output = tags.max(1)[1].tolist()\n",
    "        return output"
   ]
  },
  {
   "cell_type": "code",
   "execution_count": 16,
   "id": "b92c60b1",
   "metadata": {
    "id": "b92c60b1"
   },
   "outputs": [],
   "source": [
    "if torch.cuda.is_available():\n",
    "  cuda = torch.device('cuda')\n",
    "else:  \n",
    "  cuda = torch.device('cpu')"
   ]
  },
  {
   "cell_type": "code",
   "execution_count": 17,
   "id": "f163cea8",
   "metadata": {
    "id": "f163cea8"
   },
   "outputs": [],
   "source": [
    "model = BI_LSTM( vocab_size, embedding_dim, hidden_dim, tag_size)"
   ]
  },
  {
   "cell_type": "code",
   "execution_count": 18,
   "id": "65ead664",
   "metadata": {
    "colab": {
     "base_uri": "https://localhost:8080/"
    },
    "id": "65ead664",
    "outputId": "a79e2eee-daf8-4508-c4e6-2e56c8d6441e"
   },
   "outputs": [
    {
     "data": {
      "text/plain": [
       "BI_LSTM(\n",
       "  (word_embedding): Embedding(30172, 128)\n",
       "  (lstm): LSTM(128, 128, bidirectional=True)\n",
       "  (hidden2tag): Linear(in_features=256, out_features=18, bias=True)\n",
       ")"
      ]
     },
     "execution_count": 18,
     "metadata": {
      "tags": []
     },
     "output_type": "execute_result"
    }
   ],
   "source": [
    "model.cuda()"
   ]
  },
  {
   "cell_type": "markdown",
   "id": "cB3YvC203vBW",
   "metadata": {
    "id": "cB3YvC203vBW"
   },
   "source": [
    "## Model training and evaluation  "
   ]
  },
  {
   "cell_type": "code",
   "execution_count": 29,
   "id": "7Tq2pFpY3t_L",
   "metadata": {
    "id": "7Tq2pFpY3t_L"
   },
   "outputs": [],
   "source": [
    "def eval(X, Y):\n",
    "  total_loss = 0\n",
    "  correct_pred =0\n",
    "  bad_pred = 0 \n",
    "  for sentence, target in zip(X, Y):\n",
    "    model.zero_grad() # to remove the gradient accumulation from previous computation\n",
    "\n",
    "    model.hidden = model.hidden_init() # to initialize the hidden layer , thus prevent it from rendering undesirable \n",
    "    sentence = torch.tensor(sentence, dtype=torch.long).cuda()\n",
    "    output = model(sentence)\n",
    "\n",
    "    target = torch.tensor(target, dtype=torch.long).cuda()\n",
    "    loss = loss_function( output, target)\n",
    "\n",
    "    total_loss+=loss\n",
    "    correct_pred = (output.max(1)[1]==target).sum()\n",
    "    bad_pred = len(target)- int(correct_pred)\n",
    "\n",
    "    return  correct_pred/(correct_pred+bad_pred), total_loss\n"
   ]
  },
  {
   "cell_type": "code",
   "execution_count": 45,
   "id": "3euS2ZrtvB9M",
   "metadata": {
    "colab": {
     "base_uri": "https://localhost:8080/"
    },
    "id": "3euS2ZrtvB9M",
    "outputId": "8f07352c-8e06-4956-9ac1-2dc8b8d8c0ee"
   },
   "outputs": [
    {
     "name": "stderr",
     "output_type": "stream",
     "text": [
      "/usr/local/lib/python3.7/dist-packages/ipykernel_launcher.py:23: UserWarning: Implicit dimension choice for log_softmax has been deprecated. Change the call to include dim=X as an argument.\n"
     ]
    },
    {
     "name": "stdout",
     "output_type": "stream",
     "text": [
      "3.63 % of train process is done \n",
      "7.25 % of train process is done \n",
      "10.88 % of train process is done \n",
      "14.51 % of train process is done \n",
      "18.13 % of train process is done \n",
      "21.76 % of train process is done \n",
      "3.63 % of train process is done \n",
      "7.25 % of train process is done \n",
      "10.88 % of train process is done \n",
      "14.51 % of train process is done \n",
      "18.13 % of train process is done \n",
      "21.76 % of train process is done \n",
      "3.63 % of train process is done \n",
      "7.25 % of train process is done \n",
      "10.88 % of train process is done \n",
      "14.51 % of train process is done \n",
      "18.13 % of train process is done \n",
      "21.76 % of train process is done \n",
      "3.63 % of train process is done \n",
      "7.25 % of train process is done \n",
      "10.88 % of train process is done \n",
      "14.51 % of train process is done \n",
      "18.13 % of train process is done \n",
      "21.76 % of train process is done \n"
     ]
    }
   ],
   "source": [
    "eval_number = 1000\n",
    "reduce_train_size = 5\n",
    "loss_function = nn.CrossEntropyLoss()\n",
    "optimizer = optim.Adam(model.parameters(), lr=0.01)\n",
    "loss_history = [] \n",
    "dev_history = [] \n",
    "dev_acc_history = [] \n",
    "sum_loss = 0.0 \n",
    "for epoch in range(epochs):\n",
    "    i = 0\n",
    "    for sentence_in, targets in zip(X_train[:int(len(X_train)/reduce_train_size)],y_train[:int(len(X_train)/reduce_train_size)] ):\n",
    "        i+=1        \n",
    "        if (i % eval_number == 0): #every eval_number check you accuracy and loss on the dev set\n",
    "            t = 100 * i/(epochs*int(len(X_train)/reduce_train_size))\n",
    "            print(f'{t:.2f} % of train process is done ')\n",
    "            loss_history.append(sum_loss / eval_number)  \n",
    "            dev_loss, dev_acc = eval(X_test,y_test)\n",
    "            dev_history.append(dev_loss)\n",
    "            dev_acc_history.append(dev_acc)\n",
    "            sum_loss = 0.0 \n",
    "        # Step 1. Remember that Pytorch accumulates gradients.\n",
    "        # We need to clear them out before each instance\n",
    "        model.zero_grad()\n",
    "\n",
    "        # Also, we need to clear out the hidden state of the LSTM,\n",
    "        # detaching it from its history on the last instance.\n",
    "        model.hidden = model.hidden_init()\n",
    "  \n",
    "        # Step 3. Run our forward pass.\n",
    "        tag_scores = model(torch.tensor(sentence_in,  dtype=torch.long).cuda())\n",
    "\n",
    "        # Step 4. Compute the loss, gradients, and update the parameters by\n",
    "        #  calling optimizer.step(\n",
    "        targets = torch.tensor(targets, dtype=torch.long).cuda()\n",
    "        loss = loss_function(tag_scores, targets)\n",
    "\n",
    "        sum_loss += loss.item()\n",
    "        loss.backward()\n",
    "        optimizer.step()"
   ]
  },
  {
   "cell_type": "code",
   "execution_count": 46,
   "id": "SAOyW3gPx4US",
   "metadata": {
    "colab": {
     "base_uri": "https://localhost:8080/",
     "height": 281
    },
    "id": "SAOyW3gPx4US",
    "outputId": "7be69a5a-c9de-44b4-f58a-7480d3aa48fc"
   },
   "outputs": [
    {
     "data": {
      "text/plain": [
       "<matplotlib.legend.Legend at 0x7f5fd0be0950>"
      ]
     },
     "execution_count": 46,
     "metadata": {
      "tags": []
     },
     "output_type": "execute_result"
    },
    {
     "data": {
      "image/png": "[encoded data removed]",
      "text/plain": [
       "<Figure size 432x288 with 1 Axes>"
      ]
     },
     "metadata": {
      "needs_background": "light",
      "tags": []
     },
     "output_type": "display_data"
    }
   ],
   "source": [
    "# plot some data\n",
    "plt.plot(loss_history, label='loss')\n",
    "plt.plot(dev_history, label='validate_loss')\n",
    "plt.legend()"
   ]
  },
  {
   "cell_type": "code",
   "execution_count": 47,
   "id": "Nhp-mlZYyCRk",
   "metadata": {
    "colab": {
     "base_uri": "https://localhost:8080/",
     "height": 281
    },
    "id": "Nhp-mlZYyCRk",
    "outputId": "31c28dda-ed7d-4a7c-f5d4-d9c068b2e177"
   },
   "outputs": [
    {
     "data": {
      "text/plain": [
       "<matplotlib.legend.Legend at 0x7f5fd359fad0>"
      ]
     },
     "execution_count": 47,
     "metadata": {
      "tags": []
     },
     "output_type": "execute_result"
    },
    {
     "data": {
      "image/png": "[encoded data removed]",
      "text/plain": [
       "<Figure size 432x288 with 1 Axes>"
      ]
     },
     "metadata": {
      "needs_background": "light",
      "tags": []
     },
     "output_type": "display_data"
    }
   ],
   "source": [
    "# accuracies\n",
    "plt.plot(dev_acc_history, label='accuracy')\n",
    "plt.legend()"
   ]
  }
 ],
 "metadata": {
  "accelerator": "GPU",
  "colab": {
   "collapsed_sections": [],
   "name": "Bi-LSTM.ipynb",
   "provenance": []
  },
  "kernelspec": {
   "display_name": "Python 3",
   "language": "python",
   "name": "python3"
  },
  "language_info": {
   "codemirror_mode": {
    "name": "ipython",
    "version": 3
   },
   "file_extension": ".py",
   "mimetype": "text/x-python",
   "name": "python",
   "nbconvert_exporter": "python",
   "pygments_lexer": "ipython3",
   "version": "3.8.8"
  }
 },
 "nbformat": 4,
 "nbformat_minor": 5
}
