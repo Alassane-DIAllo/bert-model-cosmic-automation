{
 "cells": [
  {
   "cell_type": "code",
   "execution_count": 1,
   "id": "3628638f",
   "metadata": {},
   "outputs": [],
   "source": [
    "import ktrain\n",
    "import json\n",
    "import requests"
   ]
  },
  {
   "cell_type": "code",
   "execution_count": 7,
   "id": "140bb06c",
   "metadata": {},
   "outputs": [
    {
     "data": {
      "application/vnd.jupyter.widget-view+json": {
       "model_id": "6dd2d556d95d4d19948ddacec270a120",
       "version_major": 2,
       "version_minor": 0
      },
      "text/plain": [
       "Downloading:   0%|          | 0.00/625 [00:00<?, ?B/s]"
      ]
     },
     "metadata": {},
     "output_type": "display_data"
    },
    {
     "data": {
      "application/vnd.jupyter.widget-view+json": {
       "model_id": "b0e60c4100744a02bf83f0dc2fce038a",
       "version_major": 2,
       "version_minor": 0
      },
      "text/plain": [
       "Downloading:   0%|          | 0.00/996k [00:00<?, ?B/s]"
      ]
     },
     "metadata": {},
     "output_type": "display_data"
    },
    {
     "data": {
      "application/vnd.jupyter.widget-view+json": {
       "model_id": "72bee9c26fbc43648e95d906fe520bee",
       "version_major": 2,
       "version_minor": 0
      },
      "text/plain": [
       "Downloading:   0%|          | 0.00/1.08G [00:00<?, ?B/s]"
      ]
     },
     "metadata": {},
     "output_type": "display_data"
    }
   ],
   "source": [
    "predictor = ktrain.load_predictor('bert')"
   ]
  },
  {
   "cell_type": "code",
   "execution_count": 10,
   "id": "4cd03293",
   "metadata": {},
   "outputs": [],
   "source": [
    "data = [\"thousand of demonstrators have marched to london to protest the war in iraq and demand the withdraw of british troop in that country.\",\n",
    "        \"family of the solidiers that were killed in the conflict also joined the protest. \"]\n",
    "url = \"http://localhost:5000/\""
   ]
  },
  {
   "cell_type": "code",
   "execution_count": 14,
   "id": "2b27504c",
   "metadata": {},
   "outputs": [
    {
     "name": "stdout",
     "output_type": "stream",
     "text": [
      "CPU times: user 1.39 s, sys: 113 ms, total: 1.5 s\n",
      "Wall time: 716 ms\n"
     ]
    },
    {
     "data": {
      "text/plain": [
       "[[('thousand', 'O'),\n",
       "  ('of', 'O'),\n",
       "  ('demonstrators', 'O'),\n",
       "  ('have', 'O'),\n",
       "  ('marched', 'O'),\n",
       "  ('to', 'O'),\n",
       "  ('london', 'B-geo'),\n",
       "  ('to', 'O'),\n",
       "  ('protest', 'O'),\n",
       "  ('the', 'O'),\n",
       "  ('war', 'O'),\n",
       "  ('in', 'O'),\n",
       "  ('iraq', 'B-geo'),\n",
       "  ('and', 'O'),\n",
       "  ('demand', 'O'),\n",
       "  ('the', 'O'),\n",
       "  ('withdraw', 'O'),\n",
       "  ('of', 'O'),\n",
       "  ('british', 'B-gpe'),\n",
       "  ('troop', 'O'),\n",
       "  ('in', 'O'),\n",
       "  ('that', 'O'),\n",
       "  ('country', 'O'),\n",
       "  ('.', 'O')],\n",
       " [('family', 'O'),\n",
       "  ('of', 'O'),\n",
       "  ('the', 'O'),\n",
       "  ('solidiers', 'O'),\n",
       "  ('that', 'O'),\n",
       "  ('were', 'O'),\n",
       "  ('killed', 'O'),\n",
       "  ('in', 'O'),\n",
       "  ('the', 'O'),\n",
       "  ('conflict', 'O'),\n",
       "  ('also', 'O'),\n",
       "  ('joined', 'O'),\n",
       "  ('the', 'O'),\n",
       "  ('protest', 'O'),\n",
       "  ('.', 'O')]]"
      ]
     },
     "execution_count": 14,
     "metadata": {},
     "output_type": "execute_result"
    }
   ],
   "source": [
    "%%time\n",
    "predictor.predict(data)"
   ]
  },
  {
   "cell_type": "code",
   "execution_count": 2,
   "id": "4834212c",
   "metadata": {},
   "outputs": [],
   "source": [
    "url1 = \"http://localhost:5000/get_NER\"\n",
    "data = {\"sentence\":\"thousand of demonstrators have marched to london to protest the war in iraq and demand the withdraw of british troop in that country.\"}"
   ]
  },
  {
   "cell_type": "code",
   "execution_count": 3,
   "id": "57000655",
   "metadata": {},
   "outputs": [],
   "source": [
    "data = json.dumps(data)"
   ]
  },
  {
   "cell_type": "code",
   "execution_count": 4,
   "id": "15cf2658",
   "metadata": {},
   "outputs": [],
   "source": [
    "x =requests.post(url1, data)"
   ]
  },
  {
   "cell_type": "code",
   "execution_count": 5,
   "id": "72d745af",
   "metadata": {},
   "outputs": [
    {
     "name": "stdout",
     "output_type": "stream",
     "text": [
      "{\n",
      "  \"result\": [\n",
      "    [\n",
      "      [\n",
      "        \"thousand\", \n",
      "        \"O\"\n",
      "      ], \n",
      "      [\n",
      "        \"of\", \n",
      "        \"O\"\n",
      "      ], \n",
      "      [\n",
      "        \"demonstrators\", \n",
      "        \"O\"\n",
      "      ], \n",
      "      [\n",
      "        \"have\", \n",
      "        \"O\"\n",
      "      ], \n",
      "      [\n",
      "        \"marched\", \n",
      "        \"O\"\n",
      "      ], \n",
      "      [\n",
      "        \"to\", \n",
      "        \"O\"\n",
      "      ], \n",
      "      [\n",
      "        \"london\", \n",
      "        \"B-geo\"\n",
      "      ], \n",
      "      [\n",
      "        \"to\", \n",
      "        \"O\"\n",
      "      ], \n",
      "      [\n",
      "        \"protest\", \n",
      "        \"O\"\n",
      "      ], \n",
      "      [\n",
      "        \"the\", \n",
      "        \"O\"\n",
      "      ], \n",
      "      [\n",
      "        \"war\", \n",
      "        \"O\"\n",
      "      ], \n",
      "      [\n",
      "        \"in\", \n",
      "        \"O\"\n",
      "      ], \n",
      "      [\n",
      "        \"iraq\", \n",
      "        \"B-geo\"\n",
      "      ], \n",
      "      [\n",
      "        \"and\", \n",
      "        \"O\"\n",
      "      ], \n",
      "      [\n",
      "        \"demand\", \n",
      "        \"O\"\n",
      "      ], \n",
      "      [\n",
      "        \"the\", \n",
      "        \"O\"\n",
      "      ], \n",
      "      [\n",
      "        \"withdraw\", \n",
      "        \"O\"\n",
      "      ], \n",
      "      [\n",
      "        \"of\", \n",
      "        \"O\"\n",
      "      ], \n",
      "      [\n",
      "        \"british\", \n",
      "        \"B-gpe\"\n",
      "      ], \n",
      "      [\n",
      "        \"troop\", \n",
      "        \"O\"\n",
      "      ], \n",
      "      [\n",
      "        \"in\", \n",
      "        \"O\"\n",
      "      ], \n",
      "      [\n",
      "        \"that\", \n",
      "        \"O\"\n",
      "      ], \n",
      "      [\n",
      "        \"country\", \n",
      "        \"O\"\n",
      "      ], \n",
      "      [\n",
      "        \".\", \n",
      "        \"O\"\n",
      "      ]\n",
      "    ]\n",
      "  ]\n",
      "}\n",
      "\n"
     ]
    }
   ],
   "source": [
    "print(x.text)"
   ]
  },
  {
   "cell_type": "code",
   "execution_count": null,
   "id": "902b9642",
   "metadata": {},
   "outputs": [],
   "source": []
  }
 ],
 "metadata": {
  "kernelspec": {
   "display_name": "Python 3",
   "language": "python",
   "name": "python3"
  },
  "language_info": {
   "codemirror_mode": {
    "name": "ipython",
    "version": 3
   },
   "file_extension": ".py",
   "mimetype": "text/x-python",
   "name": "python",
   "nbconvert_exporter": "python",
   "pygments_lexer": "ipython3",
   "version": "3.8.8"
  }
 },
 "nbformat": 4,
 "nbformat_minor": 5
}
