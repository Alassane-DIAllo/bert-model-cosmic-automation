{
 "cells": [
  {
   "cell_type": "code",
   "execution_count": 7,
   "id": "e5020e6a",
   "metadata": {},
   "outputs": [],
   "source": [
    "filename = 'Bi-lstm-data.json'    "
   ]
  },
  {
   "cell_type": "code",
   "execution_count": 8,
   "id": "9ae84468",
   "metadata": {},
   "outputs": [],
   "source": [
    "import json"
   ]
  },
  {
   "cell_type": "code",
   "execution_count": 9,
   "id": "9d3a195a",
   "metadata": {},
   "outputs": [],
   "source": [
    "with open(filename) as f:\n",
    "    data=json.load(f)"
   ]
  },
  {
   "cell_type": "code",
   "execution_count": null,
   "id": "32cf52d7",
   "metadata": {},
   "outputs": [],
   "source": []
  }
 ],
 "metadata": {
  "kernelspec": {
   "display_name": "Python 3",
   "language": "python",
   "name": "python3"
  },
  "language_info": {
   "codemirror_mode": {
    "name": "ipython",
    "version": 3
   },
   "file_extension": ".py",
   "mimetype": "text/x-python",
   "name": "python",
   "nbconvert_exporter": "python",
   "pygments_lexer": "ipython3",
   "version": "3.8.8"
  }
 },
 "nbformat": 4,
 "nbformat_minor": 5
}
